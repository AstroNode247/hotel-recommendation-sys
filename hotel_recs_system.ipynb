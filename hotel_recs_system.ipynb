{
 "cells": [
  {
   "cell_type": "markdown",
   "id": "956d5138",
   "metadata": {},
   "source": [
    "# Recommender system for hotel"
   ]
  },
  {
   "cell_type": "code",
   "execution_count": 67,
   "id": "c5004194",
   "metadata": {},
   "outputs": [],
   "source": [
    "import findspark\n",
    "import pyspark\n",
    "import pandas as pd\n",
    "\n",
    "from pyspark.sql import SparkSession\n",
    "from pyspark.sql import functions as fun\n",
    "from pyspark.sql.window import Window\n",
    "from pyspark.sql.types import StructType, StructField, IntegerType\n",
    "\n",
    "from pyspark.ml import PipelineModel\n",
    "from pyspark.ml.evaluation import RegressionEvaluator\n",
    "from pyspark.ml.recommendation import ALS, ALSModel \n",
    "from pyspark.ml.feature import StringIndexer\n",
    "from pyspark.ml.tuning import ParamGridBuilder, CrossValidator"
   ]
  },
  {
   "cell_type": "markdown",
   "id": "3b8896c7",
   "metadata": {},
   "source": [
    "# Create the spark session"
   ]
  },
  {
   "cell_type": "code",
   "execution_count": 2,
   "id": "fbd9d6db",
   "metadata": {},
   "outputs": [],
   "source": [
    "spark = SparkSession.builder.config(\"spark.jars\", \"postgresql-42.2.26.jar\") \\\n",
    "        .appName(\"Recs\").getOrCreate()"
   ]
  },
  {
   "cell_type": "markdown",
   "id": "28b157d3",
   "metadata": {},
   "source": [
    "# Load data from database"
   ]
  },
  {
   "cell_type": "code",
   "execution_count": 34,
   "id": "07458624",
   "metadata": {},
   "outputs": [],
   "source": [
    "offering = spark.read.format(\"jdbc\").option(\"url\", \"jdbc:postgresql://localhost:5432/postgres\") \\\n",
    "                                    .option(\"driver\", \"org.postgresql.Driver\").option(\"dbtable\", \"offering\") \\\n",
    "                                    .option(\"user\", \"postgres\").option(\"password\", \"adm!@#\").load()"
   ]
  },
  {
   "cell_type": "code",
   "execution_count": 4,
   "id": "bd3d8456",
   "metadata": {},
   "outputs": [],
   "source": [
    "review = spark.read.format(\"jdbc\").option(\"url\", \"jdbc:postgresql://localhost:5432/postgres\") \\\n",
    "                                    .option(\"driver\", \"org.postgresql.Driver\").option(\"dbtable\", \"review\") \\\n",
    "                                    .option(\"user\", \"postgres\").option(\"password\", \"adm!@#\").load()"
   ]
  },
  {
   "cell_type": "markdown",
   "id": "c567d267",
   "metadata": {},
   "source": [
    "# EDA"
   ]
  },
  {
   "cell_type": "code",
   "execution_count": 7,
   "id": "1b280a30",
   "metadata": {},
   "outputs": [
    {
     "name": "stdout",
     "output_type": "stream",
     "text": [
      "The number of ratings for each hotel.\n",
      "+-----------+---------------+-----+\n",
      "|offering_id|ratings_overall|count|\n",
      "+-----------+---------------+-----+\n",
      "|     208454|            5.0| 1968|\n",
      "|     113317|            5.0| 1892|\n",
      "|     122005|            4.0| 1730|\n",
      "|     214197|            1.0| 1698|\n",
      "|      99352|            5.0| 1582|\n",
      "|     214197|            3.0| 1578|\n",
      "|     268533|            5.0| 1533|\n",
      "|      93520|            4.0| 1524|\n",
      "|     115644|            5.0| 1489|\n",
      "|      93618|            5.0| 1449|\n",
      "|      93352|            5.0| 1443|\n",
      "|     126260|            5.0| 1399|\n",
      "|      93346|            4.0| 1392|\n",
      "|      93562|            5.0| 1383|\n",
      "|      93516|            4.0| 1374|\n",
      "|    1503474|            5.0| 1373|\n",
      "|     292142|            5.0| 1371|\n",
      "|      99766|            4.0| 1324|\n",
      "|     249712|            5.0| 1317|\n",
      "|     224221|            5.0| 1307|\n",
      "+-----------+---------------+-----+\n",
      "only showing top 20 rows\n",
      "\n"
     ]
    }
   ],
   "source": [
    "nb_ratings = review.select(\"offering_id\", \"ratings_overall\")\n",
    "nb_ratings = nb_ratings.groupBy(\"offering_id\", \"ratings_overall\").count()\n",
    "print(\"The number of ratings for each hotel.\")\n",
    "nb_ratings.sort(fun.col(\"count\").desc()).show() "
   ]
  },
  {
   "cell_type": "code",
   "execution_count": 8,
   "id": "53743e2f",
   "metadata": {},
   "outputs": [
    {
     "name": "stdout",
     "output_type": "stream",
     "text": [
      "Average ratings by hotel and the number of ratings.\n",
      "+-----------+-----------+--------------+\n",
      "|offering_id|ratings_avg|number_ratings|\n",
      "+-----------+-----------+--------------+\n",
      "|     214197|       2.47|          5456|\n",
      "|      93520|        3.5|          4009|\n",
      "|     122005|       4.01|          3726|\n",
      "|      93618|        3.9|          3534|\n",
      "|     223023|       3.17|          3385|\n",
      "|      99766|       3.55|          3218|\n",
      "|      93562|       4.13|          3170|\n",
      "|      93437|       3.52|          3034|\n",
      "|     611947|       3.76|          3004|\n",
      "|     208454|       4.57|          2898|\n",
      "|      93569|       4.15|          2886|\n",
      "|      93450|       3.75|          2867|\n",
      "|     249712|       4.15|          2865|\n",
      "|      93507|       4.17|          2839|\n",
      "|      93346|       4.19|          2816|\n",
      "|      99307|       3.43|          2783|\n",
      "|      93516|       3.97|          2782|\n",
      "|     111501|       3.88|          2675|\n",
      "|      99352|       4.49|          2657|\n",
      "|      93358|       4.04|          2641|\n",
      "+-----------+-----------+--------------+\n",
      "only showing top 20 rows\n",
      "\n"
     ]
    }
   ],
   "source": [
    "avg_ratings = review.select(\"offering_id\", \"ratings_overall\")\n",
    "print(\"Average ratings by hotel and the number of ratings.\")\n",
    "avg_ratings.groupBy(\"offering_id\").agg(fun.round(fun.avg(\"ratings_overall\"), 2).alias(\"ratings_avg\"), \n",
    "                                       fun.count(\"offering_id\").alias(\"number_ratings\")) \\\n",
    "                                        .sort(fun.col(\"number_ratings\").desc(), fun.col(\"ratings_avg\").desc()).show()"
   ]
  },
  {
   "cell_type": "code",
   "execution_count": 9,
   "id": "43bdbb6a",
   "metadata": {
    "scrolled": true
   },
   "outputs": [
    {
     "name": "stdout",
     "output_type": "stream",
     "text": [
      "The number of ratings by user.\n",
      "+--------------------------------+-----+\n",
      "|author_id                       |count|\n",
      "+--------------------------------+-----+\n",
      "|                                |77066|\n",
      "|CATID_                          |299  |\n",
      "|6562BBD4EA770FE84E579622F68FA181|63   |\n",
      "|869E5453ED1ECD12EC2E210BEB6B922E|54   |\n",
      "|6C62B19C4DB8C600576B763C68AF0759|52   |\n",
      "|85223AA53CB0DE6A6EB7B3C1E99981B1|52   |\n",
      "|7BC0AF07CC240F2F614A865BBE21B5AA|47   |\n",
      "|F73CC60121EDAB8E6B1637FDE6A09177|43   |\n",
      "|17EEAF9A079A2B75E9616F7864F7CA3E|42   |\n",
      "|5A259EBC8C1AEBD6F20D4C48490255FF|41   |\n",
      "|106952AB894E1236A6094B030DD73C8F|41   |\n",
      "|5DFE96EC85C67F248DEFFA8B84891A6A|40   |\n",
      "|D4B6BB9639B4DFFA8FFD419238D5B805|39   |\n",
      "|0EED87FCB3D9A27898011055E0D05D34|38   |\n",
      "|05D57A581E9DAE14FF2A054EB3709AB2|38   |\n",
      "|E4BD9A4CD7872825F3585ECFFF4074B7|38   |\n",
      "|B8308A3B1B78754D4A2FA8462AC647F3|37   |\n",
      "|B5BB3E0C885910A11A102246B76B2728|36   |\n",
      "|C7C61B1711AE7174C4403FA3045C0A78|35   |\n",
      "|A5F51BA3CCAD57D198DD905A05A70430|35   |\n",
      "+--------------------------------+-----+\n",
      "only showing top 20 rows\n",
      "\n"
     ]
    }
   ],
   "source": [
    "user_ratings = review.select(\"author_id\", \"offering_id\", \"ratings_overall\")\n",
    "user_ratings = user_ratings.groupBy(\"author_id\").count()\n",
    "print(\"The number of ratings by user.\")\n",
    "user_ratings.sort(fun.col(\"count\").desc()).show(truncate=False)"
   ]
  },
  {
   "cell_type": "code",
   "execution_count": 10,
   "id": "f990ee3d",
   "metadata": {},
   "outputs": [
    {
     "name": "stdout",
     "output_type": "stream",
     "text": [
      "Number of anonymous ratings.\n",
      "+---------+-----+\n",
      "|author_id|count|\n",
      "+---------+-----+\n",
      "|         |77066|\n",
      "+---------+-----+\n",
      "\n"
     ]
    }
   ],
   "source": [
    "print(\"Number of anonymous ratings.\")\n",
    "user_ratings.where(user_ratings.author_id == \"\").show()"
   ]
  },
  {
   "cell_type": "code",
   "execution_count": 11,
   "id": "6739754a",
   "metadata": {},
   "outputs": [
    {
     "name": "stdout",
     "output_type": "stream",
     "text": [
      "Number of ratings with user.\n",
      "+--------------+\n",
      "|number_ratings|\n",
      "+--------------+\n",
      "|        801495|\n",
      "+--------------+\n",
      "\n"
     ]
    }
   ],
   "source": [
    "print(\"Number of ratings with user.\")\n",
    "user_ratings.where(user_ratings.author_id != \"\").agg(fun.sum(\"count\").alias(\"number_ratings\")).show()"
   ]
  },
  {
   "cell_type": "code",
   "execution_count": 12,
   "id": "d696a36a",
   "metadata": {},
   "outputs": [
    {
     "name": "stdout",
     "output_type": "stream",
     "text": [
      "Number of ratings by hotel class.\n",
      "+-----------+-----+\n",
      "|hotel_class|count|\n",
      "+-----------+-----+\n",
      "|        5.0|  356|\n",
      "|        4.5|  304|\n",
      "|        4.0| 1949|\n",
      "|        3.5| 1994|\n",
      "|        3.0| 3588|\n",
      "|        2.5| 2961|\n",
      "|        2.0| 3408|\n",
      "|        1.5|  251|\n",
      "|        1.0|   56|\n",
      "|       null| 2707|\n",
      "+-----------+-----+\n",
      "\n"
     ]
    }
   ],
   "source": [
    "hotel_class_ratings = nb_ratings.join(offering, offering.id==nb_ratings.offering_id, \"inner\")\n",
    "hotel_class_ratings = hotel_class_ratings.select(\"offering_id\", \"ratings_overall\", \"hotel_class\")\n",
    "hotel_class_ratings = hotel_class_ratings.groupBy(\"hotel_class\").count()\n",
    "print(\"Number of ratings by hotel class.\")\n",
    "hotel_class_ratings.sort(fun.col(\"hotel_class\").desc()).show()"
   ]
  },
  {
   "cell_type": "markdown",
   "id": "d67bda39",
   "metadata": {},
   "source": [
    "# Recommender system with ALS"
   ]
  },
  {
   "cell_type": "code",
   "execution_count": 13,
   "id": "ce2a16f1",
   "metadata": {},
   "outputs": [],
   "source": [
    "def get_hotel_name(offering_id):\n",
    "    return offering.select(\"name\").where(offering.id == offering_id).collect()[0][0]\n",
    "def hotel_name(offering_id):\n",
    "    return offering.select(\"name\").where(offering.id == offering_id)"
   ]
  },
  {
   "cell_type": "markdown",
   "id": "285f4f02",
   "metadata": {},
   "source": [
    "Consider only the ratings with known author."
   ]
  },
  {
   "cell_type": "code",
   "execution_count": 14,
   "id": "b10e0132",
   "metadata": {},
   "outputs": [],
   "source": [
    "known_reviews = review.select(\"offering_id\", \"author_id\", \"author_num_id\", \"author_username\", \"ratings_overall\", \"date\") \\\n",
    "                      .where((review.author_id != \"\") & (review.author_id != \"CATID_\"))"
   ]
  },
  {
   "cell_type": "code",
   "execution_count": 44,
   "id": "9f21a306",
   "metadata": {},
   "outputs": [],
   "source": [
    "train, test = known_reviews.randomSplit([0.8, 0.2], seed=42)"
   ]
  },
  {
   "cell_type": "code",
   "execution_count": 39,
   "id": "b3db198d",
   "metadata": {},
   "outputs": [],
   "source": [
    "als = ALS(userCol='author_num_id', itemCol='offering_id',\n",
    "          ratingCol='ratings_overall',\n",
    "         nonnegative=True,\n",
    "         implicitPrefs=False,\n",
    "         coldStartStrategy=\"drop\")"
   ]
  },
  {
   "cell_type": "code",
   "execution_count": 41,
   "id": "fc5b4b0c",
   "metadata": {},
   "outputs": [],
   "source": [
    "param_grid = ParamGridBuilder() \\\n",
    "                .addGrid(als.rank, [10, 50, 100, 150]) \\\n",
    "                .addGrid(als.regParam, [.01, .05, .1, .15]) \\\n",
    "                .build()"
   ]
  },
  {
   "cell_type": "code",
   "execution_count": 42,
   "id": "27be8b59",
   "metadata": {},
   "outputs": [
    {
     "name": "stdout",
     "output_type": "stream",
     "text": [
      "Number of models to be tested:  16\n"
     ]
    }
   ],
   "source": [
    "evaluator = RegressionEvaluator(metricName=\"rmse\",\n",
    "                               labelCol=\"ratings_overall\",\n",
    "                               predictionCol=\"prediction\")\n",
    "print(\"Number of models to be tested: \", len(param_grid))"
   ]
  },
  {
   "cell_type": "code",
   "execution_count": 43,
   "id": "2a37f358",
   "metadata": {},
   "outputs": [],
   "source": [
    "cv = CrossValidator(estimator=als, estimatorParamMaps=param_grid, \n",
    "                   evaluator=evaluator, numFolds=5)"
   ]
  },
  {
   "cell_type": "code",
   "execution_count": 45,
   "id": "2a619f47",
   "metadata": {
    "scrolled": true
   },
   "outputs": [],
   "source": [
    "model = cv.fit(train)"
   ]
  },
  {
   "cell_type": "code",
   "execution_count": 46,
   "id": "8bce7797",
   "metadata": {},
   "outputs": [],
   "source": [
    "best_model = model.bestModel"
   ]
  },
  {
   "cell_type": "code",
   "execution_count": 47,
   "id": "d16fd909",
   "metadata": {},
   "outputs": [
    {
     "name": "stdout",
     "output_type": "stream",
     "text": [
      "**Best Model**\n",
      "  Rank: 10\n",
      "  MaxIter: 10\n",
      "  RegParam: 0.15\n"
     ]
    }
   ],
   "source": [
    "print(\"**Best Model**\")\n",
    "# Print \"Rank\"\n",
    "print(\"  Rank:\", best_model._java_obj.parent().getRank())\n",
    "# Print \"MaxIter\"\n",
    "print(\"  MaxIter:\", best_model._java_obj.parent().getMaxIter())\n",
    "# Print \"RegParam\"\n",
    "print(\"  RegParam:\", best_model._java_obj.parent().getRegParam())"
   ]
  },
  {
   "cell_type": "code",
   "execution_count": 48,
   "id": "a2db0754",
   "metadata": {},
   "outputs": [
    {
     "name": "stdout",
     "output_type": "stream",
     "text": [
      "1.5090762812636798\n"
     ]
    }
   ],
   "source": [
    "test_predictions = best_model.transform(test)\n",
    "rmse = evaluator.evaluate(test_predictions)\n",
    "print(rmse)"
   ]
  },
  {
   "cell_type": "markdown",
   "id": "e99a798d",
   "metadata": {},
   "source": [
    "## Checkpoint"
   ]
  },
  {
   "cell_type": "code",
   "execution_count": 61,
   "id": "f5bd5710",
   "metadata": {},
   "outputs": [],
   "source": [
    "best_model.write().overwrite().save(\"/models\")"
   ]
  },
  {
   "cell_type": "markdown",
   "id": "1934e68e",
   "metadata": {},
   "source": [
    "# Load model"
   ]
  },
  {
   "cell_type": "code",
   "execution_count": 68,
   "id": "ae7b45f6",
   "metadata": {},
   "outputs": [],
   "source": [
    "model = ALSModel.load(\"/models/\")"
   ]
  },
  {
   "cell_type": "code",
   "execution_count": 69,
   "id": "baa64a4a",
   "metadata": {},
   "outputs": [],
   "source": [
    "author_num_id = 10\n",
    "userSchema = StructType([StructField('author_num_id', IntegerType(), True)])\n",
    "users = spark.createDataFrame([[author_num_id,]], userSchema)"
   ]
  },
  {
   "cell_type": "code",
   "execution_count": 73,
   "id": "00c03899",
   "metadata": {},
   "outputs": [
    {
     "name": "stdout",
     "output_type": "stream",
     "text": [
      "+-------------+-----------+---------+\n",
      "|author_num_id|offering_id|   rating|\n",
      "+-------------+-----------+---------+\n",
      "|           10|    1628583|6.1533813|\n",
      "|           10|    1222239| 5.850977|\n",
      "|           10|    1206970| 5.755678|\n",
      "|           10|     674319| 5.696856|\n",
      "|           10|    1863251|5.6358633|\n",
      "|           10|     571427|5.5899653|\n",
      "|           10|    2622936|5.5095763|\n",
      "|           10|     258634|5.4626126|\n",
      "|           10|    1630591|5.3669925|\n",
      "|           10|    1889985|5.2939634|\n",
      "+-------------+-----------+---------+\n",
      "\n"
     ]
    }
   ],
   "source": [
    "recommendations = model.recommendForUserSubset(users, 10) \n",
    "recommendations = recommendations.withColumn(\"rec_exp\", fun.explode(\"recommendations\")) \\\n",
    "                                .select(\"author_num_id\", fun.col(\"rec_exp.offering_id\"),\n",
    "                                        fun.col(\"rec_exp.rating\"))\n",
    "recommendations.show()"
   ]
  },
  {
   "cell_type": "code",
   "execution_count": null,
   "id": "cb3c8fc5",
   "metadata": {},
   "outputs": [],
   "source": []
  },
  {
   "cell_type": "code",
   "execution_count": 9,
   "id": "4c5d8373",
   "metadata": {},
   "outputs": [],
   "source": [
    "spark.stop()"
   ]
  },
  {
   "cell_type": "code",
   "execution_count": null,
   "id": "44022ca2",
   "metadata": {},
   "outputs": [],
   "source": []
  }
 ],
 "metadata": {
  "kernelspec": {
   "display_name": "Python 3 (ipykernel)",
   "language": "python",
   "name": "python3"
  },
  "language_info": {
   "codemirror_mode": {
    "name": "ipython",
    "version": 3
   },
   "file_extension": ".py",
   "mimetype": "text/x-python",
   "name": "python",
   "nbconvert_exporter": "python",
   "pygments_lexer": "ipython3",
   "version": "3.9.7"
  }
 },
 "nbformat": 4,
 "nbformat_minor": 5
}
